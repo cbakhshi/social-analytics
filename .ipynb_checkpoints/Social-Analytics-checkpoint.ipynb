{
 "cells": [
  {
   "cell_type": "code",
   "execution_count": 21,
   "metadata": {
    "collapsed": true
   },
   "outputs": [],
   "source": [
    "# Dependencies\n",
    "import pandas as pd\n",
    "import matplotlib.pyplot as plt\n",
    "import tweepy\n",
    "import seaborn as sns\n",
    "\n",
    "# VADER\n",
    "from vaderSentiment.vaderSentiment import SentimentIntensityAnalyzer\n",
    "analyzer = SentimentIntensityAnalyzer()\n",
    "\n",
    "# Twitter API Keys\n",
    "consumer_key = \"cdTb19gsgV9jJWWh4mipw9g1K\"\n",
    "consumer_secret = \"TqrR3wjtWTZIJKGJWowtvZU8Mfo2nK7LN4s6m0Gdw066ZnICDi\"\n",
    "access_token = \"938579026234499072-3ZhLcTW3nz7PJh7HH1EpSJPxTr66I7l\"\n",
    "access_token_secret = \"GCHW2QttI19jwbfvAsT9Lwreip1AzlZTXbvgUnnA0MLyZ\"\n",
    "\n",
    "# Setup Tweepy API Authentication\n",
    "auth = tweepy.OAuthHandler(consumer_key, consumer_secret)\n",
    "auth.set_access_token(access_token, access_token_secret)\n",
    "api = tweepy.API(auth, parser=tweepy.parsers.JSONParser())"
   ]
  },
  {
   "cell_type": "code",
   "execution_count": 22,
   "metadata": {},
   "outputs": [],
   "source": [
    "# Target Users: BBC, CBS, CNN, Fox, and NYTimes\n",
    "target_terms = (\"@BBCWorld\", \"@CBSNews\", \"@CNN\", \"@FoxNews\", \"@NYTimes\")\n",
    "\n",
    "# Variables for holding sentiments\n",
    "sentiments = []\n",
    "\n",
    "# Loop through all target users\n",
    "for target in target_terms:\n",
    "    \n",
    "    # Loop through 5 times (total of 100 tweets)\n",
    "    for x in range(5):\n",
    "\n",
    "        # Run search around each tweet\n",
    "        public_tweets = api.search(target, count=20, result_type=\"recent\")\n",
    "\n",
    "        # Loop through all tweets\n",
    "        for tweet in public_tweets[\"statuses\"]:\n",
    "            \n",
    "            # Run Vader Analysis on each tweet\n",
    "            compound = analyzer.polarity_scores(tweet[\"text\"])[\"compound\"]\n",
    "            pos = analyzer.polarity_scores(tweet[\"text\"])[\"pos\"]\n",
    "            neu = analyzer.polarity_scores(tweet[\"text\"])[\"neu\"]\n",
    "            neg = analyzer.polarity_scores(tweet[\"text\"])[\"neg\"]\n",
    "            \n",
    "            # Add sentiments for each tweet into an array\n",
    "            sentiments.append({\"User\": target,\n",
    "                               \"Date\": tweet[\"created_at\"], \n",
    "                               \"Compound\": compound, \n",
    "                               \"Positive\": pos,\n",
    "                               \"Negative\": neg, \n",
    "                               \"Neutral\": neu})"
   ]
  },
  {
   "cell_type": "code",
   "execution_count": 23,
   "metadata": {},
   "outputs": [
    {
     "data": {
      "text/html": [
       "<div>\n",
       "<style scoped>\n",
       "    .dataframe tbody tr th:only-of-type {\n",
       "        vertical-align: middle;\n",
       "    }\n",
       "\n",
       "    .dataframe tbody tr th {\n",
       "        vertical-align: top;\n",
       "    }\n",
       "\n",
       "    .dataframe thead th {\n",
       "        text-align: right;\n",
       "    }\n",
       "</style>\n",
       "<table border=\"1\" class=\"dataframe\">\n",
       "  <thead>\n",
       "    <tr style=\"text-align: right;\">\n",
       "      <th></th>\n",
       "      <th>Compound</th>\n",
       "      <th>Date</th>\n",
       "      <th>Negative</th>\n",
       "      <th>Neutral</th>\n",
       "      <th>Positive</th>\n",
       "      <th>User</th>\n",
       "    </tr>\n",
       "  </thead>\n",
       "  <tbody>\n",
       "    <tr>\n",
       "      <th>0</th>\n",
       "      <td>0.0000</td>\n",
       "      <td>Mon Dec 18 05:50:33 +0000 2017</td>\n",
       "      <td>0.000</td>\n",
       "      <td>1.000</td>\n",
       "      <td>0.000</td>\n",
       "      <td>@BBCWorld</td>\n",
       "    </tr>\n",
       "    <tr>\n",
       "      <th>1</th>\n",
       "      <td>0.4767</td>\n",
       "      <td>Mon Dec 18 05:50:00 +0000 2017</td>\n",
       "      <td>0.000</td>\n",
       "      <td>0.763</td>\n",
       "      <td>0.237</td>\n",
       "      <td>@BBCWorld</td>\n",
       "    </tr>\n",
       "    <tr>\n",
       "      <th>2</th>\n",
       "      <td>-0.4404</td>\n",
       "      <td>Mon Dec 18 05:49:58 +0000 2017</td>\n",
       "      <td>0.195</td>\n",
       "      <td>0.805</td>\n",
       "      <td>0.000</td>\n",
       "      <td>@BBCWorld</td>\n",
       "    </tr>\n",
       "    <tr>\n",
       "      <th>3</th>\n",
       "      <td>0.4767</td>\n",
       "      <td>Mon Dec 18 05:49:51 +0000 2017</td>\n",
       "      <td>0.000</td>\n",
       "      <td>0.763</td>\n",
       "      <td>0.237</td>\n",
       "      <td>@BBCWorld</td>\n",
       "    </tr>\n",
       "    <tr>\n",
       "      <th>4</th>\n",
       "      <td>0.0000</td>\n",
       "      <td>Mon Dec 18 05:49:46 +0000 2017</td>\n",
       "      <td>0.000</td>\n",
       "      <td>1.000</td>\n",
       "      <td>0.000</td>\n",
       "      <td>@BBCWorld</td>\n",
       "    </tr>\n",
       "  </tbody>\n",
       "</table>\n",
       "</div>"
      ],
      "text/plain": [
       "   Compound                            Date  Negative  Neutral  Positive  \\\n",
       "0    0.0000  Mon Dec 18 05:50:33 +0000 2017     0.000    1.000     0.000   \n",
       "1    0.4767  Mon Dec 18 05:50:00 +0000 2017     0.000    0.763     0.237   \n",
       "2   -0.4404  Mon Dec 18 05:49:58 +0000 2017     0.195    0.805     0.000   \n",
       "3    0.4767  Mon Dec 18 05:49:51 +0000 2017     0.000    0.763     0.237   \n",
       "4    0.0000  Mon Dec 18 05:49:46 +0000 2017     0.000    1.000     0.000   \n",
       "\n",
       "        User  \n",
       "0  @BBCWorld  \n",
       "1  @BBCWorld  \n",
       "2  @BBCWorld  \n",
       "3  @BBCWorld  \n",
       "4  @BBCWorld  "
      ]
     },
     "execution_count": 23,
     "metadata": {},
     "output_type": "execute_result"
    }
   ],
   "source": [
    "# Convert sentiments to DataFrame\n",
    "sentiments_pd = pd.DataFrame.from_dict(sentiments)\n",
    "sentiments_pd.head()"
   ]
  },
  {
   "cell_type": "code",
   "execution_count": null,
   "metadata": {
    "collapsed": true
   },
   "outputs": [],
   "source": [
    "\"\"\"fig = plt.figure()\n",
    "ax1 = fig.add_subplot(111)\n",
    "\n",
    "ax1.scatter(x[:4], y[:4], s=10, c='b', marker=\"s\", label='first')\n",
    "ax1.scatter(x[40:],y[40:], s=10, c='r', marker=\"o\", label='second')\n",
    "plt.legend(loc='upper left');\n",
    "plt.show()\"\"\""
   ]
  },
  {
   "cell_type": "code",
   "execution_count": 30,
   "metadata": {},
   "outputs": [
    {
     "data": {
      "image/png": "[encoded data removed]",
      "text/plain": [
       "<matplotlib.figure.Figure at 0x1177ab320>"
      ]
     },
     "metadata": {},
     "output_type": "display_data"
    }
   ],
   "source": [
    "# Create plot\n",
    "plt.clf()\n",
    "\n",
    "sentiments_pd['Date'] = pd.to_datetime(sentiments_pd['Date'])\n",
    "sentiments_pd = sentiments_pd.sort_values(by=['Date']).reset_index(drop=True)\n",
    "\n",
    "plt.plot(sentiments_pd[\"Date\"],\n",
    "         sentiments_pd[\"Compound\"], marker=\"o\", linewidth=0.5,\n",
    "         alpha=0.8)\n",
    "\n",
    "# # Incorporate the other graph properties\n",
    "plt.title(\"Sentiment Analysis of Tweets\")\n",
    "plt.ylabel(\"Tweet Polarity\")\n",
    "plt.xlabel(\"Time\")\n",
    "plt.show()"
   ]
  },
  {
   "cell_type": "code",
   "execution_count": null,
   "metadata": {
    "collapsed": true
   },
   "outputs": [],
   "source": []
  },
  {
   "cell_type": "code",
   "execution_count": 17,
   "metadata": {},
   "outputs": [
    {
     "name": "stdout",
     "output_type": "stream",
     "text": [
      "{'User': '@BBCWorld', 'Compound': -0.054634999999999989, 'Positive': 0.0212, 'Neutral': 0.055449999999999999, 'Negative': 0.92334999999999989}\n",
      "\n",
      "{'User': '@CBSNews', 'Compound': 0.12922, 'Positive': 0.067949999999999997, 'Neutral': 0.036600000000000001, 'Negative': 0.89539999999999997}\n",
      "\n",
      "{'User': '@CNN', 'Compound': 0.0081799999999999998, 'Positive': 0.082650000000000001, 'Neutral': 0.067500000000000004, 'Negative': 0.84984999999999999}\n",
      "\n",
      "{'User': '@FoxNews', 'Compound': -0.062395000000000006, 'Positive': 0.06855, 'Neutral': 0.10640000000000002, 'Negative': 0.82494999999999985}\n",
      "\n",
      "{'User': '@NYTimes', 'Compound': 0.067497000000000001, 'Positive': 0.087889999999999996, 'Neutral': 0.067949999999999997, 'Negative': 0.84416000000000002}\n",
      "\n"
     ]
    }
   ],
   "source": [
    "# Loop through all target users\n",
    "for target in target_terms:\n",
    "\n",
    "    # Variables for holding sentiments\n",
    "    compound_list = []\n",
    "    positive_list = []\n",
    "    negative_list = []\n",
    "    neutral_list = []\n",
    "\n",
    "    # Loop through 5 times (total of 100 tweets)\n",
    "    for x in range(5):\n",
    "\n",
    "        # Run search around each tweet\n",
    "        public_tweets_2 = api.search(target, count=20, result_type=\"recent\")\n",
    "\n",
    "        # Loop through all tweets\n",
    "        for tweet in public_tweets_2[\"statuses\"]:\n",
    "\n",
    "                # Run Vader Analysis on each tweet\n",
    "                compound = analyzer.polarity_scores(tweet[\"text\"])[\"compound\"]\n",
    "                pos = analyzer.polarity_scores(tweet[\"text\"])[\"pos\"]\n",
    "                neu = analyzer.polarity_scores(tweet[\"text\"])[\"neu\"]\n",
    "                neg = analyzer.polarity_scores(tweet[\"text\"])[\"neg\"]\n",
    "\n",
    "                # Add each value to the appropriate array\n",
    "                compound_list.append(compound)\n",
    "                positive_list.append(pos)\n",
    "                negative_list.append(neg)\n",
    "                neutral_list.append(neu)\n",
    "\n",
    "    # Store the Average Sentiments\n",
    "    sentiment = {\"User\": target,\n",
    "                 \"Compound\": np.mean(compound_list),\n",
    "                 \"Positive\": np.mean(positive_list),\n",
    "                 \"Neutral\": np.mean(negative_list),\n",
    "                 \"Negative\": np.mean(neutral_list)}\n",
    "\n",
    "    # Print the Sentiments\n",
    "    print(sentiment)\n",
    "    print(\"\")\n",
    "\n"
   ]
  },
  {
   "cell_type": "code",
   "execution_count": null,
   "metadata": {
    "collapsed": true
   },
   "outputs": [],
   "source": []
  }
 ],
 "metadata": {
  "kernelspec": {
   "display_name": "Python [conda env:PythonData]",
   "language": "python",
   "name": "conda-env-PythonData-py"
  },
  "language_info": {
   "codemirror_mode": {
    "name": "ipython",
    "version": 3
   },
   "file_extension": ".py",
   "mimetype": "text/x-python",
   "name": "python",
   "nbconvert_exporter": "python",
   "pygments_lexer": "ipython3",
   "version": "3.6.1"
  }
 },
 "nbformat": 4,
 "nbformat_minor": 2
}
